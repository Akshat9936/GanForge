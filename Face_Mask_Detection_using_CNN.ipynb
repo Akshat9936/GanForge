{
  "metadata": {
    "kernelspec": {
      "language": "python",
      "display_name": "Python 3",
      "name": "python3"
    },
    "language_info": {
      "name": "python",
      "version": "3.7.12",
      "mimetype": "text/x-python",
      "codemirror_mode": {
        "name": "ipython",
        "version": 3
      },
      "pygments_lexer": "ipython3",
      "nbconvert_exporter": "python",
      "file_extension": ".py"
    },
    "kaggle": {
      "accelerator": "none",
      "dataSources": [
        {
          "sourceId": 1176415,
          "sourceType": "datasetVersion",
          "datasetId": 667889
        }
      ],
      "dockerImageVersionId": 30260,
      "isInternetEnabled": true,
      "language": "python",
      "sourceType": "notebook",
      "isGpuEnabled": false
    },
    "colab": {
      "name": "Face-Mask-Detection using CNN",
      "provenance": []
    }
  },
  "nbformat_minor": 0,
  "nbformat": 4,
  "cells": [
    {
      "source": [
        "# IMPORTANT: RUN THIS CELL IN ORDER TO IMPORT YOUR KAGGLE DATA SOURCES,\n",
        "# THEN FEEL FREE TO DELETE THIS CELL.\n",
        "# NOTE: THIS NOTEBOOK ENVIRONMENT DIFFERS FROM KAGGLE'S PYTHON\n",
        "# ENVIRONMENT SO THERE MAY BE MISSING LIBRARIES USED BY YOUR\n",
        "# NOTEBOOK.\n",
        "import kagglehub\n",
        "andrewmvd_face_mask_detection_path = kagglehub.dataset_download('andrewmvd/face-mask-detection')\n",
        "\n",
        "print('Data source import complete.')\n"
      ],
      "metadata": {
        "id": "AgcQopAQuAwZ"
      },
      "cell_type": "code",
      "outputs": [],
      "execution_count": null
    },
    {
      "cell_type": "code",
      "source": [
        "# Importing necessary libraries\n",
        "import os\n",
        "import glob\n",
        "import xml.etree.ElementTree as ET\n",
        "from PIL import Image\n",
        "import numpy as np\n",
        "import pandas as pd\n",
        "from sklearn.model_selection import train_test_split\n",
        "from keras.models import Sequential\n",
        "from keras.layers import Conv2D, MaxPooling2D, Flatten, Dense, Dropout\n",
        "from keras.preprocessing.image import ImageDataGenerator\n",
        "import cv2\n",
        "\n",
        "# Path to the input data and annotations\n",
        "input_data_path = '/kaggle/input/face-mask-detection/images'\n",
        "annotations_path = \"/kaggle/input/face-mask-detection/annotations\"\n",
        "images = [*os.listdir(\"/kaggle/input/face-mask-detection/images\")]\n",
        "output_data_path = '.'"
      ],
      "metadata": {
        "_uuid": "8f2839f25d086af736a60e9eeb907d3b93b6e0e5",
        "_cell_guid": "b1076dfc-b9ad-4769-8c92-a6c4dae69d19",
        "execution": {
          "iopub.status.busy": "2024-04-23T14:43:35.394705Z",
          "iopub.execute_input": "2024-04-23T14:43:35.39569Z",
          "iopub.status.idle": "2024-04-23T14:43:43.216488Z",
          "shell.execute_reply.started": "2024-04-23T14:43:35.395587Z",
          "shell.execute_reply": "2024-04-23T14:43:43.215148Z"
        },
        "trusted": true,
        "id": "7SlAzAcLuAwc"
      },
      "execution_count": null,
      "outputs": []
    },
    {
      "cell_type": "code",
      "source": [
        "# Function to parse annotation object\n",
        "def parse_annotation_object(annotation_object):\n",
        "    params = {}\n",
        "    for param in list(annotation_object):\n",
        "        if param.tag == 'name':\n",
        "            params['name'] = param.text\n",
        "        if param.tag == 'bndbox':\n",
        "            for coord in list(param):\n",
        "                params[coord.tag] = int(coord.text)\n",
        "    return params"
      ],
      "metadata": {
        "execution": {
          "iopub.status.busy": "2024-04-23T14:43:43.218756Z",
          "iopub.execute_input": "2024-04-23T14:43:43.219615Z",
          "iopub.status.idle": "2024-04-23T14:43:43.226258Z",
          "shell.execute_reply.started": "2024-04-23T14:43:43.219565Z",
          "shell.execute_reply": "2024-04-23T14:43:43.225368Z"
        },
        "trusted": true,
        "id": "SJs2PyvHuAwe"
      },
      "execution_count": null,
      "outputs": []
    },
    {
      "cell_type": "code",
      "source": [
        "# Parsing annotations and creating DataFrame\n",
        "dataset = []\n",
        "for anno in glob.glob(annotations_path + \"/*.xml\"):\n",
        "    tree = ET.parse(anno)\n",
        "    root = tree.getroot()\n",
        "    constants = {'file': root.find('filename').text[0:-4]}\n",
        "    objects = root.findall('object')\n",
        "    for obj in objects:\n",
        "        object_params = parse_annotation_object(obj)\n",
        "        dataset.append({**constants, **object_params})\n",
        "\n",
        "df = pd.DataFrame(dataset)"
      ],
      "metadata": {
        "execution": {
          "iopub.status.busy": "2024-04-23T14:43:43.227489Z",
          "iopub.execute_input": "2024-04-23T14:43:43.227986Z",
          "iopub.status.idle": "2024-04-23T14:43:47.113099Z",
          "shell.execute_reply.started": "2024-04-23T14:43:43.227953Z",
          "shell.execute_reply": "2024-04-23T14:43:47.111695Z"
        },
        "trusted": true,
        "id": "1p6eZhRouAwe"
      },
      "execution_count": null,
      "outputs": []
    },
    {
      "cell_type": "code",
      "source": [
        "# Removing a test image from the dataset\n",
        "final_test_image = 'maksssksksss0'\n",
        "images.remove(f'{final_test_image}.png')\n",
        "df = df[df[\"file\"] != final_test_image]"
      ],
      "metadata": {
        "execution": {
          "iopub.status.busy": "2024-04-23T14:43:47.117512Z",
          "iopub.execute_input": "2024-04-23T14:43:47.117913Z",
          "iopub.status.idle": "2024-04-23T14:43:47.132415Z",
          "shell.execute_reply.started": "2024-04-23T14:43:47.117879Z",
          "shell.execute_reply": "2024-04-23T14:43:47.131212Z"
        },
        "trusted": true,
        "id": "lNEQzbQouAwf"
      },
      "execution_count": null,
      "outputs": []
    },
    {
      "cell_type": "code",
      "source": [
        "# Splitting data into train, test, and validation sets\n",
        "train_df, test_df = train_test_split(df, test_size=0.2, random_state=42)\n",
        "train_df, val_df = train_test_split(train_df, test_size=0.2, random_state=42)"
      ],
      "metadata": {
        "execution": {
          "iopub.status.busy": "2024-04-23T14:43:47.13663Z",
          "iopub.execute_input": "2024-04-23T14:43:47.137233Z",
          "iopub.status.idle": "2024-04-23T14:43:47.150795Z",
          "shell.execute_reply.started": "2024-04-23T14:43:47.137196Z",
          "shell.execute_reply": "2024-04-23T14:43:47.14883Z"
        },
        "trusted": true,
        "id": "ZVmmhFa9uAwf"
      },
      "execution_count": null,
      "outputs": []
    },
    {
      "cell_type": "code",
      "source": [
        "# Creating directories for train, test, and validation data\n",
        "for label in df['name'].unique():\n",
        "    for d in ['train', 'test', 'val']:\n",
        "        path = os.path.join(output_data_path, d, label)\n",
        "        os.makedirs(path, exist_ok=True)"
      ],
      "metadata": {
        "execution": {
          "iopub.status.busy": "2024-04-23T14:43:47.152965Z",
          "iopub.execute_input": "2024-04-23T14:43:47.15362Z",
          "iopub.status.idle": "2024-04-23T14:43:47.166902Z",
          "shell.execute_reply.started": "2024-04-23T14:43:47.153577Z",
          "shell.execute_reply": "2024-04-23T14:43:47.16346Z"
        },
        "trusted": true,
        "id": "Ann2enc4uAwg"
      },
      "execution_count": null,
      "outputs": []
    },
    {
      "cell_type": "code",
      "source": [
        "# Function to crop images based on bounding box coordinates\n",
        "def crop_img(image_path, x_min, y_min, x_max, y_max):\n",
        "    img = Image.open(image_path)\n",
        "    cropped = img.crop((x_min - (x_max - x_min) * 0.1, y_min - (y_max - y_min) * 0.1, x_max + (x_max - x_min) * 0.1, y_max + (y_max - y_min) * 0.1))\n",
        "    return cropped\n",
        "\n",
        "# Saving images to directories\n",
        "def save_image(image, image_name, dataset_type, label):\n",
        "    output_path = os.path.join(output_data_path, dataset_type, label, f'{image_name}.png')\n",
        "    image.save(output_path)\n",
        "\n",
        "for dataset, dataset_type in [(train_df, 'train'), (test_df, 'test'), (val_df, 'val')]:\n",
        "    for _, row in dataset.iterrows():\n",
        "        image_path = os.path.join(input_data_path, row['file'] + '.png')\n",
        "        image = crop_img(image_path, row['xmin'], row['ymin'], row['xmax'], row['ymax'])\n",
        "        save_image(image, row['file'] + '_' + str((row['xmin'], row['ymin'])), dataset_type, row['name'])\n",
        "\n"
      ],
      "metadata": {
        "execution": {
          "iopub.status.busy": "2024-04-23T14:43:47.1683Z",
          "iopub.execute_input": "2024-04-23T14:43:47.168771Z",
          "iopub.status.idle": "2024-04-23T14:45:16.697017Z",
          "shell.execute_reply.started": "2024-04-23T14:43:47.168723Z",
          "shell.execute_reply": "2024-04-23T14:45:16.69588Z"
        },
        "trusted": true,
        "id": "HoTipMSTuAwg"
      },
      "execution_count": null,
      "outputs": []
    },
    {
      "cell_type": "code",
      "source": [
        "# Creating a CNN model\n",
        "model = Sequential([\n",
        "    Conv2D(filters=16, kernel_size=3, padding='same', activation='relu', input_shape=(35, 35, 3)),\n",
        "    MaxPooling2D(pool_size=2),\n",
        "    Conv2D(filters=32, kernel_size=3, padding='same', activation='relu'),\n",
        "    MaxPooling2D(pool_size=2),\n",
        "    Conv2D(filters=64, kernel_size=3, padding='same', activation='relu'),\n",
        "    MaxPooling2D(pool_size=2),\n",
        "    Dropout(0.3),\n",
        "    Flatten(),\n",
        "    Dense(units=500, activation='relu'),\n",
        "    Dropout(0.3),\n",
        "    Dense(units=3, activation='softmax')\n",
        "])"
      ],
      "metadata": {
        "execution": {
          "iopub.status.busy": "2024-04-23T14:45:16.698339Z",
          "iopub.execute_input": "2024-04-23T14:45:16.698657Z",
          "iopub.status.idle": "2024-04-23T14:45:16.881494Z",
          "shell.execute_reply.started": "2024-04-23T14:45:16.698627Z",
          "shell.execute_reply": "2024-04-23T14:45:16.880222Z"
        },
        "trusted": true,
        "id": "qx7qHaIiuAwh"
      },
      "execution_count": null,
      "outputs": []
    },
    {
      "cell_type": "code",
      "source": [
        "# Compiling the model\n",
        "model.compile(optimizer=\"adam\", loss=\"categorical_crossentropy\", metrics=['accuracy'])"
      ],
      "metadata": {
        "execution": {
          "iopub.status.busy": "2024-04-23T14:45:16.882854Z",
          "iopub.execute_input": "2024-04-23T14:45:16.883211Z",
          "iopub.status.idle": "2024-04-23T14:45:16.901019Z",
          "shell.execute_reply.started": "2024-04-23T14:45:16.883177Z",
          "shell.execute_reply": "2024-04-23T14:45:16.899709Z"
        },
        "trusted": true,
        "id": "BgrCsg6fuAwh"
      },
      "execution_count": null,
      "outputs": []
    },
    {
      "cell_type": "code",
      "source": [
        "# Data augmentation\n",
        "datagen = ImageDataGenerator(\n",
        "    rescale=1.0 / 255, horizontal_flip=True, zoom_range=0.1, shear_range=0.2, width_shift_range=0.1,\n",
        "    height_shift_range=0.1, rotation_range=4, vertical_flip=False\n",
        ")\n",
        "\n",
        "val_datagen = ImageDataGenerator(rescale=1.0 / 255)"
      ],
      "metadata": {
        "execution": {
          "iopub.status.busy": "2024-04-23T14:45:16.904402Z",
          "iopub.execute_input": "2024-04-23T14:45:16.904769Z",
          "iopub.status.idle": "2024-04-23T14:45:16.910776Z",
          "shell.execute_reply.started": "2024-04-23T14:45:16.904735Z",
          "shell.execute_reply": "2024-04-23T14:45:16.909584Z"
        },
        "trusted": true,
        "id": "OvQy7_ScuAwi"
      },
      "execution_count": null,
      "outputs": []
    },
    {
      "cell_type": "code",
      "source": [
        "# Generating data from directories\n",
        "batch_size = 8\n",
        "train_generator = datagen.flow_from_directory(directory='/kaggle/working/train', target_size=(35, 35),\n",
        "                                              class_mode=\"categorical\", batch_size=batch_size, shuffle=True)\n",
        "\n",
        "val_generator = val_datagen.flow_from_directory(directory='/kaggle/working/val', target_size=(35, 35),\n",
        "                                                class_mode=\"categorical\", batch_size=batch_size, shuffle=True)\n",
        "\n",
        "test_generator = val_datagen.flow_from_directory(directory='/kaggle/working/test', target_size=(35, 35),\n",
        "                                                 class_mode=\"categorical\", batch_size=batch_size, shuffle=False)"
      ],
      "metadata": {
        "execution": {
          "iopub.status.busy": "2024-04-23T14:45:16.912168Z",
          "iopub.execute_input": "2024-04-23T14:45:16.912523Z",
          "iopub.status.idle": "2024-04-23T14:45:17.619697Z",
          "shell.execute_reply.started": "2024-04-23T14:45:16.912491Z",
          "shell.execute_reply": "2024-04-23T14:45:17.618358Z"
        },
        "trusted": true,
        "id": "7sdEMsnPuAwi"
      },
      "execution_count": null,
      "outputs": []
    },
    {
      "cell_type": "code",
      "source": [
        "# Training the model\n",
        "model.fit_generator(generator=train_generator, epochs=50, validation_data=val_generator, callbacks=[])"
      ],
      "metadata": {
        "execution": {
          "iopub.status.busy": "2024-04-23T14:45:17.621757Z",
          "iopub.execute_input": "2024-04-23T14:45:17.622146Z",
          "iopub.status.idle": "2024-04-23T14:53:11.261335Z",
          "shell.execute_reply.started": "2024-04-23T14:45:17.62211Z",
          "shell.execute_reply": "2024-04-23T14:53:11.260381Z"
        },
        "trusted": true,
        "id": "MR34f-SQuAwi"
      },
      "execution_count": null,
      "outputs": []
    },
    {
      "cell_type": "code",
      "source": [
        "# Evaluating the model\n",
        "model_loss, model_acc = model.evaluate(test_generator)\n",
        "print(f'Test Loss: {model_loss}, Test Accuracy: {model_acc}')"
      ],
      "metadata": {
        "execution": {
          "iopub.status.busy": "2024-04-23T14:53:11.262759Z",
          "iopub.execute_input": "2024-04-23T14:53:11.263126Z",
          "iopub.status.idle": "2024-04-23T14:53:12.087788Z",
          "shell.execute_reply.started": "2024-04-23T14:53:11.263092Z",
          "shell.execute_reply": "2024-04-23T14:53:12.086548Z"
        },
        "trusted": true,
        "id": "8qgX2GuUuAwi"
      },
      "execution_count": null,
      "outputs": []
    }
  ]
}